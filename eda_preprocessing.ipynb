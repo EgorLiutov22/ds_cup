{
 "cells": [
  {
   "cell_type": "markdown",
   "id": "5f562da7",
   "metadata": {},
   "source": [
    "### Импорт библиотек"
   ]
  },
  {
   "cell_type": "code",
   "execution_count": 2,
   "id": "4505241c",
   "metadata": {
    "ExecuteTime": {
     "end_time": "2023-03-19T15:29:29.855213Z",
     "start_time": "2023-03-19T15:29:29.655142Z"
    }
   },
   "outputs": [],
   "source": [
    "import pandas as pd"
   ]
  },
  {
   "cell_type": "markdown",
   "id": "e279820e",
   "metadata": {},
   "source": [
    "### Познакомимся с данными"
   ]
  },
  {
   "cell_type": "code",
   "execution_count": 3,
   "id": "2da89bdb",
   "metadata": {
    "ExecuteTime": {
     "end_time": "2023-03-19T15:29:31.617368Z",
     "start_time": "2023-03-19T15:29:30.538277Z"
    }
   },
   "outputs": [],
   "source": [
    "train_df = pd.read_json('data/ranking_train.jsonl', lines=True)"
   ]
  },
  {
   "cell_type": "code",
   "execution_count": 4,
   "id": "7b2925c8",
   "metadata": {
    "ExecuteTime": {
     "end_time": "2023-03-19T15:29:31.650347Z",
     "start_time": "2023-03-19T15:29:31.626787Z"
    }
   },
   "outputs": [
    {
     "name": "stdout",
     "output_type": "stream",
     "text": [
      "<class 'pandas.core.frame.DataFrame'>\n",
      "RangeIndex: 88107 entries, 0 to 88106\n",
      "Data columns (total 2 columns):\n",
      " #   Column    Non-Null Count  Dtype \n",
      "---  ------    --------------  ----- \n",
      " 0   text      88107 non-null  object\n",
      " 1   comments  88107 non-null  object\n",
      "dtypes: object(2)\n",
      "memory usage: 1.3+ MB\n"
     ]
    }
   ],
   "source": [
    "train_df.info()"
   ]
  },
  {
   "cell_type": "code",
   "execution_count": 5,
   "id": "bfb6dfd9",
   "metadata": {
    "ExecuteTime": {
     "end_time": "2023-03-19T15:29:31.670727Z",
     "start_time": "2023-03-19T15:29:31.660795Z"
    }
   },
   "outputs": [
    {
     "data": {
      "text/html": [
       "<div>\n",
       "<style scoped>\n",
       "    .dataframe tbody tr th:only-of-type {\n",
       "        vertical-align: middle;\n",
       "    }\n",
       "\n",
       "    .dataframe tbody tr th {\n",
       "        vertical-align: top;\n",
       "    }\n",
       "\n",
       "    .dataframe thead th {\n",
       "        text-align: right;\n",
       "    }\n",
       "</style>\n",
       "<table border=\"1\" class=\"dataframe\">\n",
       "  <thead>\n",
       "    <tr style=\"text-align: right;\">\n",
       "      <th></th>\n",
       "      <th>text</th>\n",
       "      <th>comments</th>\n",
       "    </tr>\n",
       "  </thead>\n",
       "  <tbody>\n",
       "    <tr>\n",
       "      <th>0</th>\n",
       "      <td>How many summer Y Combinator fundees decided n...</td>\n",
       "      <td>[{'text': 'Going back to school is not identic...</td>\n",
       "    </tr>\n",
       "    <tr>\n",
       "      <th>1</th>\n",
       "      <td>CBS acquires last.fm for $280m</td>\n",
       "      <td>[{'text': 'It will be curious to see where thi...</td>\n",
       "    </tr>\n",
       "    <tr>\n",
       "      <th>2</th>\n",
       "      <td>How Costco Became the Anti-Wal-Mart</td>\n",
       "      <td>[{'text': 'I really hate it when people falsel...</td>\n",
       "    </tr>\n",
       "    <tr>\n",
       "      <th>3</th>\n",
       "      <td>Fortune Favors Big Turds | Screw The Money, Th...</td>\n",
       "      <td>[{'text': 'His real point is that something ca...</td>\n",
       "    </tr>\n",
       "    <tr>\n",
       "      <th>4</th>\n",
       "      <td>StartupWeekend: 70 Founders Create One Company...</td>\n",
       "      <td>[{'text': 'Looks like someone hasn't read The ...</td>\n",
       "    </tr>\n",
       "  </tbody>\n",
       "</table>\n",
       "</div>"
      ],
      "text/plain": [
       "                                                text  \\\n",
       "0  How many summer Y Combinator fundees decided n...   \n",
       "1                     CBS acquires last.fm for $280m   \n",
       "2                How Costco Became the Anti-Wal-Mart   \n",
       "3  Fortune Favors Big Turds | Screw The Money, Th...   \n",
       "4  StartupWeekend: 70 Founders Create One Company...   \n",
       "\n",
       "                                            comments  \n",
       "0  [{'text': 'Going back to school is not identic...  \n",
       "1  [{'text': 'It will be curious to see where thi...  \n",
       "2  [{'text': 'I really hate it when people falsel...  \n",
       "3  [{'text': 'His real point is that something ca...  \n",
       "4  [{'text': 'Looks like someone hasn't read The ...  "
      ]
     },
     "execution_count": 5,
     "metadata": {},
     "output_type": "execute_result"
    }
   ],
   "source": [
    "train_df.head()"
   ]
  },
  {
   "cell_type": "markdown",
   "id": "3eb3dfb6",
   "metadata": {},
   "source": [
    "### Проверим присутствие Nan значений в данных"
   ]
  },
  {
   "cell_type": "code",
   "execution_count": 6,
   "id": "4f4088b8",
   "metadata": {
    "ExecuteTime": {
     "end_time": "2023-03-19T15:29:35.357694Z",
     "start_time": "2023-03-19T15:29:35.275081Z"
    }
   },
   "outputs": [
    {
     "data": {
      "text/plain": [
       "text        0\n",
       "comments    0\n",
       "dtype: int64"
      ]
     },
     "execution_count": 6,
     "metadata": {},
     "output_type": "execute_result"
    }
   ],
   "source": [
    "train_df.isna().sum()"
   ]
  },
  {
   "cell_type": "markdown",
   "id": "599f5be4",
   "metadata": {},
   "source": [
    "### Количество уникальных значений в столбце `text` "
   ]
  },
  {
   "cell_type": "code",
   "execution_count": 7,
   "id": "6075b4e2",
   "metadata": {
    "ExecuteTime": {
     "end_time": "2023-03-19T15:29:36.579431Z",
     "start_time": "2023-03-19T15:29:36.523146Z"
    }
   },
   "outputs": [
    {
     "data": {
      "text/plain": [
       "87664"
      ]
     },
     "execution_count": 7,
     "metadata": {},
     "output_type": "execute_result"
    }
   ],
   "source": [
    "train_df['text'].nunique()"
   ]
  },
  {
   "cell_type": "code",
   "execution_count": 8,
   "id": "137357a4",
   "metadata": {
    "ExecuteTime": {
     "end_time": "2023-03-19T15:29:37.198145Z",
     "start_time": "2023-03-19T15:29:37.138561Z"
    }
   },
   "outputs": [
    {
     "data": {
      "text/plain": [
       "Facebook is down                                           6\n",
       "Ask HN: Idea Sunday                                        5\n",
       "Ask HN: What are you working on?                           4\n",
       "Ask HN: Who's Hiring?                                      4\n",
       "Ask HN: Review my startup                                  3\n",
       "                                                          ..\n",
       "Google I/O 2012                                            1\n",
       "ZeroRPC                                                    1\n",
       "All that is wrong with the Recruitment Industry            1\n",
       "Study predicts imminent irreversible planetary collapse    1\n",
       "Clinkle                                                    1\n",
       "Name: text, Length: 399, dtype: int64"
      ]
     },
     "execution_count": 8,
     "metadata": {},
     "output_type": "execute_result"
    }
   ],
   "source": [
    "duplicates = train_df[train_df.duplicated(subset='text')]\n",
    "duplicates['text'].value_counts()"
   ]
  },
  {
   "cell_type": "markdown",
   "id": "fa2a4091",
   "metadata": {},
   "source": [
    "### Сгруппируем построчно посты к каждому комментарию"
   ]
  },
  {
   "cell_type": "code",
   "execution_count": 9,
   "id": "f911b822",
   "metadata": {
    "ExecuteTime": {
     "end_time": "2023-03-19T15:29:43.867774Z",
     "start_time": "2023-03-19T15:29:43.726876Z"
    }
   },
   "outputs": [
    {
     "data": {
      "text/html": [
       "<div>\n",
       "<style scoped>\n",
       "    .dataframe tbody tr th:only-of-type {\n",
       "        vertical-align: middle;\n",
       "    }\n",
       "\n",
       "    .dataframe tbody tr th {\n",
       "        vertical-align: top;\n",
       "    }\n",
       "\n",
       "    .dataframe thead th {\n",
       "        text-align: right;\n",
       "    }\n",
       "</style>\n",
       "<table border=\"1\" class=\"dataframe\">\n",
       "  <thead>\n",
       "    <tr style=\"text-align: right;\">\n",
       "      <th></th>\n",
       "      <th>text</th>\n",
       "      <th>comments</th>\n",
       "    </tr>\n",
       "  </thead>\n",
       "  <tbody>\n",
       "    <tr>\n",
       "      <th>0</th>\n",
       "      <td>How many summer Y Combinator fundees decided n...</td>\n",
       "      <td>{'text': 'Going back to school is not identica...</td>\n",
       "    </tr>\n",
       "    <tr>\n",
       "      <th>1</th>\n",
       "      <td>How many summer Y Combinator fundees decided n...</td>\n",
       "      <td>{'text': 'There will invariably be those who d...</td>\n",
       "    </tr>\n",
       "    <tr>\n",
       "      <th>2</th>\n",
       "      <td>How many summer Y Combinator fundees decided n...</td>\n",
       "      <td>{'text': 'For me school is a way to be connect...</td>\n",
       "    </tr>\n",
       "    <tr>\n",
       "      <th>3</th>\n",
       "      <td>How many summer Y Combinator fundees decided n...</td>\n",
       "      <td>{'text': 'I guess it really depends on how hun...</td>\n",
       "    </tr>\n",
       "    <tr>\n",
       "      <th>4</th>\n",
       "      <td>How many summer Y Combinator fundees decided n...</td>\n",
       "      <td>{'text': 'I know pollground decided to go back...</td>\n",
       "    </tr>\n",
       "    <tr>\n",
       "      <th>5</th>\n",
       "      <td>CBS acquires last.fm for $280m</td>\n",
       "      <td>{'text': 'It will be curious to see where this...</td>\n",
       "    </tr>\n",
       "    <tr>\n",
       "      <th>6</th>\n",
       "      <td>CBS acquires last.fm for $280m</td>\n",
       "      <td>{'text': 'Does this mean that there's now a bi...</td>\n",
       "    </tr>\n",
       "    <tr>\n",
       "      <th>7</th>\n",
       "      <td>CBS acquires last.fm for $280m</td>\n",
       "      <td>{'text': 'Also on BBC News:  http://news.bbc.c...</td>\n",
       "    </tr>\n",
       "    <tr>\n",
       "      <th>8</th>\n",
       "      <td>CBS acquires last.fm for $280m</td>\n",
       "      <td>{'text': 'I don't understand what they do that...</td>\n",
       "    </tr>\n",
       "    <tr>\n",
       "      <th>9</th>\n",
       "      <td>CBS acquires last.fm for $280m</td>\n",
       "      <td>{'text': 'sold out too cheaply. given their le...</td>\n",
       "    </tr>\n",
       "  </tbody>\n",
       "</table>\n",
       "</div>"
      ],
      "text/plain": [
       "                                                text  \\\n",
       "0  How many summer Y Combinator fundees decided n...   \n",
       "1  How many summer Y Combinator fundees decided n...   \n",
       "2  How many summer Y Combinator fundees decided n...   \n",
       "3  How many summer Y Combinator fundees decided n...   \n",
       "4  How many summer Y Combinator fundees decided n...   \n",
       "5                     CBS acquires last.fm for $280m   \n",
       "6                     CBS acquires last.fm for $280m   \n",
       "7                     CBS acquires last.fm for $280m   \n",
       "8                     CBS acquires last.fm for $280m   \n",
       "9                     CBS acquires last.fm for $280m   \n",
       "\n",
       "                                            comments  \n",
       "0  {'text': 'Going back to school is not identica...  \n",
       "1  {'text': 'There will invariably be those who d...  \n",
       "2  {'text': 'For me school is a way to be connect...  \n",
       "3  {'text': 'I guess it really depends on how hun...  \n",
       "4  {'text': 'I know pollground decided to go back...  \n",
       "5  {'text': 'It will be curious to see where this...  \n",
       "6  {'text': 'Does this mean that there's now a bi...  \n",
       "7  {'text': 'Also on BBC News:  http://news.bbc.c...  \n",
       "8  {'text': 'I don't understand what they do that...  \n",
       "9  {'text': 'sold out too cheaply. given their le...  "
      ]
     },
     "execution_count": 9,
     "metadata": {},
     "output_type": "execute_result"
    }
   ],
   "source": [
    "df = train_df.explode('comments', ignore_index=True)\n",
    "df.head(10)"
   ]
  },
  {
   "cell_type": "markdown",
   "id": "db64fe68",
   "metadata": {},
   "source": [
    "### Нормализуем данные JSON в плоскую таблицу, отделив `text` от `score`."
   ]
  },
  {
   "cell_type": "code",
   "execution_count": 10,
   "id": "e12e33d6",
   "metadata": {
    "ExecuteTime": {
     "end_time": "2023-03-19T15:29:45.589163Z",
     "start_time": "2023-03-19T15:29:44.854973Z"
    }
   },
   "outputs": [
    {
     "data": {
      "text/html": [
       "<div>\n",
       "<style scoped>\n",
       "    .dataframe tbody tr th:only-of-type {\n",
       "        vertical-align: middle;\n",
       "    }\n",
       "\n",
       "    .dataframe tbody tr th {\n",
       "        vertical-align: top;\n",
       "    }\n",
       "\n",
       "    .dataframe thead th {\n",
       "        text-align: right;\n",
       "    }\n",
       "</style>\n",
       "<table border=\"1\" class=\"dataframe\">\n",
       "  <thead>\n",
       "    <tr style=\"text-align: right;\">\n",
       "      <th></th>\n",
       "      <th>text</th>\n",
       "      <th>score</th>\n",
       "    </tr>\n",
       "  </thead>\n",
       "  <tbody>\n",
       "    <tr>\n",
       "      <th>0</th>\n",
       "      <td>Going back to school is not identical with giv...</td>\n",
       "      <td>0</td>\n",
       "    </tr>\n",
       "    <tr>\n",
       "      <th>1</th>\n",
       "      <td>There will invariably be those who don't see t...</td>\n",
       "      <td>1</td>\n",
       "    </tr>\n",
       "    <tr>\n",
       "      <th>2</th>\n",
       "      <td>For me school is a way to be connected to what...</td>\n",
       "      <td>2</td>\n",
       "    </tr>\n",
       "    <tr>\n",
       "      <th>3</th>\n",
       "      <td>I guess it really depends on how hungry you ar...</td>\n",
       "      <td>3</td>\n",
       "    </tr>\n",
       "    <tr>\n",
       "      <th>4</th>\n",
       "      <td>I know pollground decided to go back to school...</td>\n",
       "      <td>4</td>\n",
       "    </tr>\n",
       "  </tbody>\n",
       "</table>\n",
       "</div>"
      ],
      "text/plain": [
       "                                                text  score\n",
       "0  Going back to school is not identical with giv...      0\n",
       "1  There will invariably be those who don't see t...      1\n",
       "2  For me school is a way to be connected to what...      2\n",
       "3  I guess it really depends on how hungry you ar...      3\n",
       "4  I know pollground decided to go back to school...      4"
      ]
     },
     "execution_count": 10,
     "metadata": {},
     "output_type": "execute_result"
    }
   ],
   "source": [
    "df_comments = pd.json_normalize(df['comments'])\n",
    "df_comments.head(5)"
   ]
  },
  {
   "cell_type": "markdown",
   "id": "73a29515",
   "metadata": {},
   "source": [
    "### Для более эффективного обучения и оптимальной сходимости предварительно обученной модели необходимо внести изменения, поскольку в ее наборе данных для score = 1.0 соответствует два одинаковых текста.\n",
    "#### Конвертируем `score` в интервал [0.2 ;  0.8], где ` 0.8` cоответствует самому популярному комментарию, `0.2` самому непопулярному"
   ]
  },
  {
   "cell_type": "code",
   "execution_count": 11,
   "id": "10fadc84",
   "metadata": {
    "ExecuteTime": {
     "end_time": "2023-03-19T15:29:45.673886Z",
     "start_time": "2023-03-19T15:29:45.665293Z"
    }
   },
   "outputs": [
    {
     "data": {
      "text/html": [
       "<div>\n",
       "<style scoped>\n",
       "    .dataframe tbody tr th:only-of-type {\n",
       "        vertical-align: middle;\n",
       "    }\n",
       "\n",
       "    .dataframe tbody tr th {\n",
       "        vertical-align: top;\n",
       "    }\n",
       "\n",
       "    .dataframe thead th {\n",
       "        text-align: right;\n",
       "    }\n",
       "</style>\n",
       "<table border=\"1\" class=\"dataframe\">\n",
       "  <thead>\n",
       "    <tr style=\"text-align: right;\">\n",
       "      <th></th>\n",
       "      <th>comment</th>\n",
       "      <th>score</th>\n",
       "    </tr>\n",
       "  </thead>\n",
       "  <tbody>\n",
       "    <tr>\n",
       "      <th>440515</th>\n",
       "      <td>We use a HSA-qualified high-deductible policy ...</td>\n",
       "      <td>0.80</td>\n",
       "    </tr>\n",
       "    <tr>\n",
       "      <th>440516</th>\n",
       "      <td>I&amp;#x27;m self-employed and use a catastrophic ...</td>\n",
       "      <td>0.65</td>\n",
       "    </tr>\n",
       "    <tr>\n",
       "      <th>440517</th>\n",
       "      <td>Mom &amp;amp; School.  Thanks Obama!  No really, t...</td>\n",
       "      <td>0.50</td>\n",
       "    </tr>\n",
       "    <tr>\n",
       "      <th>440518</th>\n",
       "      <td>I&amp;#x27;ve had one employer offer to pay you th...</td>\n",
       "      <td>0.35</td>\n",
       "    </tr>\n",
       "    <tr>\n",
       "      <th>440519</th>\n",
       "      <td>I ended up on disability in 2003, been on Medi...</td>\n",
       "      <td>0.20</td>\n",
       "    </tr>\n",
       "    <tr>\n",
       "      <th>440520</th>\n",
       "      <td>neat insight! A friend of mine convinced me to...</td>\n",
       "      <td>0.80</td>\n",
       "    </tr>\n",
       "    <tr>\n",
       "      <th>440521</th>\n",
       "      <td>The fixed header and footer on this page makes...</td>\n",
       "      <td>0.65</td>\n",
       "    </tr>\n",
       "    <tr>\n",
       "      <th>440522</th>\n",
       "      <td>Good read, thanks for putting this together. G...</td>\n",
       "      <td>0.50</td>\n",
       "    </tr>\n",
       "    <tr>\n",
       "      <th>440523</th>\n",
       "      <td>Awesome article.  Thanks Justin!</td>\n",
       "      <td>0.35</td>\n",
       "    </tr>\n",
       "    <tr>\n",
       "      <th>440524</th>\n",
       "      <td>dopeness - very useful</td>\n",
       "      <td>0.20</td>\n",
       "    </tr>\n",
       "    <tr>\n",
       "      <th>440525</th>\n",
       "      <td>Ouch, I feel for whoever let this slip.Experie...</td>\n",
       "      <td>0.80</td>\n",
       "    </tr>\n",
       "    <tr>\n",
       "      <th>440526</th>\n",
       "      <td>This is why I never upgrade my phone or OS as ...</td>\n",
       "      <td>0.65</td>\n",
       "    </tr>\n",
       "    <tr>\n",
       "      <th>440527</th>\n",
       "      <td>Has this release been pulled? It&amp;#x27;s not av...</td>\n",
       "      <td>0.50</td>\n",
       "    </tr>\n",
       "    <tr>\n",
       "      <th>440528</th>\n",
       "      <td>FYI, this is&amp;#x2F;was a problem affecting the ...</td>\n",
       "      <td>0.35</td>\n",
       "    </tr>\n",
       "    <tr>\n",
       "      <th>440529</th>\n",
       "      <td>My phone has been blowing up with my friends a...</td>\n",
       "      <td>0.20</td>\n",
       "    </tr>\n",
       "    <tr>\n",
       "      <th>440530</th>\n",
       "      <td>Most major banks offer a service called &amp;#x27;...</td>\n",
       "      <td>0.80</td>\n",
       "    </tr>\n",
       "    <tr>\n",
       "      <th>440531</th>\n",
       "      <td>It costs 3.25%, or $74.25 for the example of $...</td>\n",
       "      <td>0.65</td>\n",
       "    </tr>\n",
       "    <tr>\n",
       "      <th>440532</th>\n",
       "      <td>As many other comments have pointed out almost...</td>\n",
       "      <td>0.50</td>\n",
       "    </tr>\n",
       "    <tr>\n",
       "      <th>440533</th>\n",
       "      <td>My apartment building uses Yapstone&amp;#x27;s Ren...</td>\n",
       "      <td>0.35</td>\n",
       "    </tr>\n",
       "    <tr>\n",
       "      <th>440534</th>\n",
       "      <td>Video seems in poor taste.</td>\n",
       "      <td>0.20</td>\n",
       "    </tr>\n",
       "  </tbody>\n",
       "</table>\n",
       "</div>"
      ],
      "text/plain": [
       "                                                  comment  score\n",
       "440515  We use a HSA-qualified high-deductible policy ...   0.80\n",
       "440516  I&#x27;m self-employed and use a catastrophic ...   0.65\n",
       "440517  Mom &amp; School.  Thanks Obama!  No really, t...   0.50\n",
       "440518  I&#x27;ve had one employer offer to pay you th...   0.35\n",
       "440519  I ended up on disability in 2003, been on Medi...   0.20\n",
       "440520  neat insight! A friend of mine convinced me to...   0.80\n",
       "440521  The fixed header and footer on this page makes...   0.65\n",
       "440522  Good read, thanks for putting this together. G...   0.50\n",
       "440523                   Awesome article.  Thanks Justin!   0.35\n",
       "440524                             dopeness - very useful   0.20\n",
       "440525  Ouch, I feel for whoever let this slip.Experie...   0.80\n",
       "440526  This is why I never upgrade my phone or OS as ...   0.65\n",
       "440527  Has this release been pulled? It&#x27;s not av...   0.50\n",
       "440528  FYI, this is&#x2F;was a problem affecting the ...   0.35\n",
       "440529  My phone has been blowing up with my friends a...   0.20\n",
       "440530  Most major banks offer a service called &#x27;...   0.80\n",
       "440531  It costs 3.25%, or $74.25 for the example of $...   0.65\n",
       "440532  As many other comments have pointed out almost...   0.50\n",
       "440533  My apartment building uses Yapstone&#x27;s Ren...   0.35\n",
       "440534                         Video seems in poor taste.   0.20"
      ]
     },
     "execution_count": 11,
     "metadata": {},
     "output_type": "execute_result"
    }
   ],
   "source": [
    "map_dict = {0: 0.8, 1: 0.65, 2: 0.5, 3: 0.35, 4: 0.2}\n",
    "\n",
    "df_comments['score'] = df_comments['score'].map(map_dict)\n",
    "df_comments.columns = ['comment', 'score']\n",
    "df_comments.tail(20)"
   ]
  },
  {
   "cell_type": "markdown",
   "id": "119b3d9e",
   "metadata": {},
   "source": [
    "### Преобразуем исходный датафрейм в удобный вид, сделав слияние с предыдущими результатами"
   ]
  },
  {
   "cell_type": "code",
   "execution_count": 12,
   "id": "a2154280",
   "metadata": {
    "ExecuteTime": {
     "end_time": "2023-03-19T15:29:47.017690Z",
     "start_time": "2023-03-19T15:29:46.974551Z"
    }
   },
   "outputs": [
    {
     "data": {
      "text/html": [
       "<div>\n",
       "<style scoped>\n",
       "    .dataframe tbody tr th:only-of-type {\n",
       "        vertical-align: middle;\n",
       "    }\n",
       "\n",
       "    .dataframe tbody tr th {\n",
       "        vertical-align: top;\n",
       "    }\n",
       "\n",
       "    .dataframe thead th {\n",
       "        text-align: right;\n",
       "    }\n",
       "</style>\n",
       "<table border=\"1\" class=\"dataframe\">\n",
       "  <thead>\n",
       "    <tr style=\"text-align: right;\">\n",
       "      <th></th>\n",
       "      <th>text</th>\n",
       "      <th>comment</th>\n",
       "      <th>score</th>\n",
       "    </tr>\n",
       "  </thead>\n",
       "  <tbody>\n",
       "    <tr>\n",
       "      <th>0</th>\n",
       "      <td>How many summer Y Combinator fundees decided n...</td>\n",
       "      <td>Going back to school is not identical with giv...</td>\n",
       "      <td>0.80</td>\n",
       "    </tr>\n",
       "    <tr>\n",
       "      <th>1</th>\n",
       "      <td>How many summer Y Combinator fundees decided n...</td>\n",
       "      <td>There will invariably be those who don't see t...</td>\n",
       "      <td>0.65</td>\n",
       "    </tr>\n",
       "    <tr>\n",
       "      <th>2</th>\n",
       "      <td>How many summer Y Combinator fundees decided n...</td>\n",
       "      <td>For me school is a way to be connected to what...</td>\n",
       "      <td>0.50</td>\n",
       "    </tr>\n",
       "    <tr>\n",
       "      <th>3</th>\n",
       "      <td>How many summer Y Combinator fundees decided n...</td>\n",
       "      <td>I guess it really depends on how hungry you ar...</td>\n",
       "      <td>0.35</td>\n",
       "    </tr>\n",
       "    <tr>\n",
       "      <th>4</th>\n",
       "      <td>How many summer Y Combinator fundees decided n...</td>\n",
       "      <td>I know pollground decided to go back to school...</td>\n",
       "      <td>0.20</td>\n",
       "    </tr>\n",
       "    <tr>\n",
       "      <th>5</th>\n",
       "      <td>CBS acquires last.fm for $280m</td>\n",
       "      <td>It will be curious to see where this heads in ...</td>\n",
       "      <td>0.80</td>\n",
       "    </tr>\n",
       "    <tr>\n",
       "      <th>6</th>\n",
       "      <td>CBS acquires last.fm for $280m</td>\n",
       "      <td>Does this mean that there's now a big-name com...</td>\n",
       "      <td>0.65</td>\n",
       "    </tr>\n",
       "    <tr>\n",
       "      <th>7</th>\n",
       "      <td>CBS acquires last.fm for $280m</td>\n",
       "      <td>Also on BBC News:  http://news.bbc.co.uk/1/low...</td>\n",
       "      <td>0.50</td>\n",
       "    </tr>\n",
       "    <tr>\n",
       "      <th>8</th>\n",
       "      <td>CBS acquires last.fm for $280m</td>\n",
       "      <td>I don't understand what they do that is worth ...</td>\n",
       "      <td>0.35</td>\n",
       "    </tr>\n",
       "    <tr>\n",
       "      <th>9</th>\n",
       "      <td>CBS acquires last.fm for $280m</td>\n",
       "      <td>sold out too cheaply. given their leadership p...</td>\n",
       "      <td>0.20</td>\n",
       "    </tr>\n",
       "  </tbody>\n",
       "</table>\n",
       "</div>"
      ],
      "text/plain": [
       "                                                text  \\\n",
       "0  How many summer Y Combinator fundees decided n...   \n",
       "1  How many summer Y Combinator fundees decided n...   \n",
       "2  How many summer Y Combinator fundees decided n...   \n",
       "3  How many summer Y Combinator fundees decided n...   \n",
       "4  How many summer Y Combinator fundees decided n...   \n",
       "5                     CBS acquires last.fm for $280m   \n",
       "6                     CBS acquires last.fm for $280m   \n",
       "7                     CBS acquires last.fm for $280m   \n",
       "8                     CBS acquires last.fm for $280m   \n",
       "9                     CBS acquires last.fm for $280m   \n",
       "\n",
       "                                             comment  score  \n",
       "0  Going back to school is not identical with giv...   0.80  \n",
       "1  There will invariably be those who don't see t...   0.65  \n",
       "2  For me school is a way to be connected to what...   0.50  \n",
       "3  I guess it really depends on how hungry you ar...   0.35  \n",
       "4  I know pollground decided to go back to school...   0.20  \n",
       "5  It will be curious to see where this heads in ...   0.80  \n",
       "6  Does this mean that there's now a big-name com...   0.65  \n",
       "7  Also on BBC News:  http://news.bbc.co.uk/1/low...   0.50  \n",
       "8  I don't understand what they do that is worth ...   0.35  \n",
       "9  sold out too cheaply. given their leadership p...   0.20  "
      ]
     },
     "execution_count": 12,
     "metadata": {},
     "output_type": "execute_result"
    }
   ],
   "source": [
    "df = pd.merge(df['text'], df_comments, left_index=True, right_index=True)\n",
    "df.head(10)"
   ]
  },
  {
   "cell_type": "markdown",
   "id": "0dc8eb12",
   "metadata": {},
   "source": [
    "#### Интересно глянуть, что содержат самые релевантные комментарии и как они соотносятся к самому повторяющемуся тексту публикации во всем наборе данных"
   ]
  },
  {
   "cell_type": "code",
   "execution_count": 13,
   "id": "b420b8df",
   "metadata": {
    "ExecuteTime": {
     "end_time": "2023-03-19T15:29:48.941505Z",
     "start_time": "2023-03-19T15:29:47.654751Z"
    }
   },
   "outputs": [],
   "source": [
    "facebook = df[df['text'] == \"Facebook is down\"]\n",
    "facebook.to_excel('facebokIsDown.xlsx', )"
   ]
  },
  {
   "cell_type": "markdown",
   "id": "6dc79d26",
   "metadata": {},
   "source": [
    "### Сохраним датафрейм в формате pickle"
   ]
  },
  {
   "cell_type": "code",
   "execution_count": 14,
   "id": "d36cc0cb",
   "metadata": {
    "ExecuteTime": {
     "end_time": "2023-03-19T15:29:50.173176Z",
     "start_time": "2023-03-19T15:29:49.980602Z"
    }
   },
   "outputs": [],
   "source": [
    "df.to_pickle(\"data/ranking_train.pkl\")  "
   ]
  }
 ],
 "metadata": {
  "kernelspec": {
   "display_name": "Python 3 (ipykernel)",
   "language": "python",
   "name": "python3"
  },
  "language_info": {
   "codemirror_mode": {
    "name": "ipython",
    "version": 3
   },
   "file_extension": ".py",
   "mimetype": "text/x-python",
   "name": "python",
   "nbconvert_exporter": "python",
   "pygments_lexer": "ipython3",
   "version": "3.9.13"
  },
  "toc": {
   "base_numbering": 1,
   "nav_menu": {},
   "number_sections": true,
   "sideBar": true,
   "skip_h1_title": false,
   "title_cell": "Table of Contents",
   "title_sidebar": "Contents",
   "toc_cell": false,
   "toc_position": {},
   "toc_section_display": true,
   "toc_window_display": false
  },
  "varInspector": {
   "cols": {
    "lenName": 16,
    "lenType": 16,
    "lenVar": 40
   },
   "kernels_config": {
    "python": {
     "delete_cmd_postfix": "",
     "delete_cmd_prefix": "del ",
     "library": "var_list.py",
     "varRefreshCmd": "print(var_dic_list())"
    },
    "r": {
     "delete_cmd_postfix": ") ",
     "delete_cmd_prefix": "rm(",
     "library": "var_list.r",
     "varRefreshCmd": "cat(var_dic_list()) "
    }
   },
   "types_to_exclude": [
    "module",
    "function",
    "builtin_function_or_method",
    "instance",
    "_Feature"
   ],
   "window_display": false
  }
 },
 "nbformat": 4,
 "nbformat_minor": 5
}
