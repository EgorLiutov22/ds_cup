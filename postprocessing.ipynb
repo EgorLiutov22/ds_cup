{
 "cells": [
  {
   "cell_type": "code",
   "execution_count": 1,
   "id": "7dd48208",
   "metadata": {
    "ExecuteTime": {
     "end_time": "2023-03-19T22:16:30.873813Z",
     "start_time": "2023-03-19T22:16:30.665914Z"
    }
   },
   "outputs": [],
   "source": [
    "import pandas as pd"
   ]
  },
  {
   "cell_type": "code",
   "execution_count": 2,
   "id": "78256bc9",
   "metadata": {
    "ExecuteTime": {
     "end_time": "2023-03-19T22:16:31.201697Z",
     "start_time": "2023-03-19T22:16:30.875021Z"
    }
   },
   "outputs": [],
   "source": [
    "df = pd.read_csv('data/predicted.csv')"
   ]
  },
  {
   "cell_type": "code",
   "execution_count": 3,
   "id": "dde821c1",
   "metadata": {
    "ExecuteTime": {
     "end_time": "2023-03-19T22:16:31.207140Z",
     "start_time": "2023-03-19T22:16:31.202613Z"
    }
   },
   "outputs": [
    {
     "data": {
      "text/plain": [
       "(70020, 5)"
      ]
     },
     "execution_count": 3,
     "metadata": {},
     "output_type": "execute_result"
    }
   ],
   "source": [
    "df.shape"
   ]
  },
  {
   "cell_type": "code",
   "execution_count": 4,
   "id": "247057d9",
   "metadata": {
    "ExecuteTime": {
     "end_time": "2023-03-19T22:16:31.214177Z",
     "start_time": "2023-03-19T22:16:31.208416Z"
    }
   },
   "outputs": [
    {
     "data": {
      "text/html": [
       "<div>\n",
       "<style scoped>\n",
       "    .dataframe tbody tr th:only-of-type {\n",
       "        vertical-align: middle;\n",
       "    }\n",
       "\n",
       "    .dataframe tbody tr th {\n",
       "        vertical-align: top;\n",
       "    }\n",
       "\n",
       "    .dataframe thead th {\n",
       "        text-align: right;\n",
       "    }\n",
       "</style>\n",
       "<table border=\"1\" class=\"dataframe\">\n",
       "  <thead>\n",
       "    <tr style=\"text-align: right;\">\n",
       "      <th></th>\n",
       "      <th>Unnamed: 0</th>\n",
       "      <th>text</th>\n",
       "      <th>comment</th>\n",
       "      <th>score</th>\n",
       "      <th>st_scores</th>\n",
       "    </tr>\n",
       "  </thead>\n",
       "  <tbody>\n",
       "    <tr>\n",
       "      <th>0</th>\n",
       "      <td>0</td>\n",
       "      <td>iOS 8.0 . 1 released , broken on iPhone 6 mode...</td>\n",
       "      <td>I 'm still waiting for them to stabilize wifi ...</td>\n",
       "      <td>3</td>\n",
       "      <td>0.411239</td>\n",
       "    </tr>\n",
       "    <tr>\n",
       "      <th>1</th>\n",
       "      <td>1</td>\n",
       "      <td>iOS 8.0 . 1 released , broken on iPhone 6 mode...</td>\n",
       "      <td>For those who upgraded , no need to do a resto...</td>\n",
       "      <td>1</td>\n",
       "      <td>0.498455</td>\n",
       "    </tr>\n",
       "    <tr>\n",
       "      <th>2</th>\n",
       "      <td>2</td>\n",
       "      <td>iOS 8.0 . 1 released , broken on iPhone 6 mode...</td>\n",
       "      <td>Upgraded shortly after it was released and suf...</td>\n",
       "      <td>2</td>\n",
       "      <td>0.459516</td>\n",
       "    </tr>\n",
       "    <tr>\n",
       "      <th>3</th>\n",
       "      <td>3</td>\n",
       "      <td>iOS 8.0 . 1 released , broken on iPhone 6 mode...</td>\n",
       "      <td>I think they were under a lot of pressure on t...</td>\n",
       "      <td>4</td>\n",
       "      <td>0.529123</td>\n",
       "    </tr>\n",
       "    <tr>\n",
       "      <th>4</th>\n",
       "      <td>4</td>\n",
       "      <td>iOS 8.0 . 1 released , broken on iPhone 6 mode...</td>\n",
       "      <td>Fix for those who already updated : HTTPURL ...</td>\n",
       "      <td>0</td>\n",
       "      <td>0.423034</td>\n",
       "    </tr>\n",
       "  </tbody>\n",
       "</table>\n",
       "</div>"
      ],
      "text/plain": [
       "   Unnamed: 0                                               text  \\\n",
       "0           0  iOS 8.0 . 1 released , broken on iPhone 6 mode...   \n",
       "1           1  iOS 8.0 . 1 released , broken on iPhone 6 mode...   \n",
       "2           2  iOS 8.0 . 1 released , broken on iPhone 6 mode...   \n",
       "3           3  iOS 8.0 . 1 released , broken on iPhone 6 mode...   \n",
       "4           4  iOS 8.0 . 1 released , broken on iPhone 6 mode...   \n",
       "\n",
       "                                             comment  score  st_scores  \n",
       "0  I 'm still waiting for them to stabilize wifi ...      3   0.411239  \n",
       "1  For those who upgraded , no need to do a resto...      1   0.498455  \n",
       "2  Upgraded shortly after it was released and suf...      2   0.459516  \n",
       "3  I think they were under a lot of pressure on t...      4   0.529123  \n",
       "4    Fix for those who already updated : HTTPURL ...      0   0.423034  "
      ]
     },
     "execution_count": 4,
     "metadata": {},
     "output_type": "execute_result"
    }
   ],
   "source": [
    "df.head(5)"
   ]
  },
  {
   "cell_type": "code",
   "execution_count": 5,
   "id": "ee390150",
   "metadata": {
    "ExecuteTime": {
     "end_time": "2023-03-19T22:16:31.230026Z",
     "start_time": "2023-03-19T22:16:31.216101Z"
    }
   },
   "outputs": [
    {
     "data": {
      "text/plain": [
       "Unnamed: 0    0\n",
       "text          0\n",
       "comment       0\n",
       "score         0\n",
       "st_scores     0\n",
       "dtype: int64"
      ]
     },
     "execution_count": 5,
     "metadata": {},
     "output_type": "execute_result"
    }
   ],
   "source": [
    "df.isna().sum()"
   ]
  },
  {
   "cell_type": "markdown",
   "id": "9750f5c3",
   "metadata": {},
   "source": [
    "## Самые популярные повторяющиеся во времени посты"
   ]
  },
  {
   "cell_type": "code",
   "execution_count": 6,
   "id": "8c11b403",
   "metadata": {
    "ExecuteTime": {
     "end_time": "2023-03-19T22:16:31.245894Z",
     "start_time": "2023-03-19T22:16:31.230907Z"
    }
   },
   "outputs": [
    {
     "data": {
      "text/plain": [
       "Ask HN : What are you reading ?                                            29\n",
       "OpenSSL Security Advisory                                                  14\n",
       "Women are leaving the tech industry in droves                               9\n",
       "Ask HN : Has political correctness in tech gone too far ?                   9\n",
       "WhatsApp does n't understand the web                                        9\n",
       "                                                                           ..\n",
       "Apple has lost the functional high ground                                   4\n",
       "When a Cartoonist Landed in L . A . County Jail , She Drew What She Saw     4\n",
       "Tech billionaires have a lot in common with previous capitalist titans      4\n",
       "Battlecode 2015 – AI Programming Competition                                4\n",
       "Why does Gmail hate my domain ?                                             4\n",
       "Name: text, Length: 13954, dtype: int64"
      ]
     },
     "execution_count": 6,
     "metadata": {},
     "output_type": "execute_result"
    }
   ],
   "source": [
    "duplicates = df[df.duplicated(subset='text')]\n",
    "duplicates['text'].value_counts()"
   ]
  },
  {
   "cell_type": "markdown",
   "id": "624a21f2",
   "metadata": {},
   "source": [
    "## Возьмём эти данные для анализа и поиска инсайтов относительно рейтинга комментариев"
   ]
  },
  {
   "cell_type": "code",
   "execution_count": 7,
   "id": "c20b291e",
   "metadata": {
    "ExecuteTime": {
     "end_time": "2023-03-19T22:16:31.250376Z",
     "start_time": "2023-03-19T22:16:31.246995Z"
    }
   },
   "outputs": [],
   "source": [
    "my_list = ['Ask HN : What are you reading ?', 'OpenSSL Security Advisory']\n",
    "\n",
    "filtered_df = df[df['text'].isin(my_list)]"
   ]
  },
  {
   "cell_type": "code",
   "execution_count": 8,
   "id": "59cfff42",
   "metadata": {
    "ExecuteTime": {
     "end_time": "2023-03-19T22:16:31.359185Z",
     "start_time": "2023-03-19T22:16:31.251222Z"
    }
   },
   "outputs": [],
   "source": [
    "filtered_df.to_excel('filtered_df.xlsx', )"
   ]
  }
 ],
 "metadata": {
  "kernelspec": {
   "display_name": "Python 3 (ipykernel)",
   "language": "python",
   "name": "python3"
  },
  "language_info": {
   "codemirror_mode": {
    "name": "ipython",
    "version": 3
   },
   "file_extension": ".py",
   "mimetype": "text/x-python",
   "name": "python",
   "nbconvert_exporter": "python",
   "pygments_lexer": "ipython3",
   "version": "3.9.13"
  },
  "toc": {
   "base_numbering": 1,
   "nav_menu": {},
   "number_sections": true,
   "sideBar": true,
   "skip_h1_title": false,
   "title_cell": "Table of Contents",
   "title_sidebar": "Contents",
   "toc_cell": false,
   "toc_position": {},
   "toc_section_display": true,
   "toc_window_display": false
  },
  "varInspector": {
   "cols": {
    "lenName": 16,
    "lenType": 16,
    "lenVar": 40
   },
   "kernels_config": {
    "python": {
     "delete_cmd_postfix": "",
     "delete_cmd_prefix": "del ",
     "library": "var_list.py",
     "varRefreshCmd": "print(var_dic_list())"
    },
    "r": {
     "delete_cmd_postfix": ") ",
     "delete_cmd_prefix": "rm(",
     "library": "var_list.r",
     "varRefreshCmd": "cat(var_dic_list()) "
    }
   },
   "types_to_exclude": [
    "module",
    "function",
    "builtin_function_or_method",
    "instance",
    "_Feature"
   ],
   "window_display": false
  }
 },
 "nbformat": 4,
 "nbformat_minor": 5
}
