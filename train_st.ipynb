{
 "cells": [
  {
   "cell_type": "code",
   "execution_count": 2,
   "id": "5903130f",
   "metadata": {
    "tags": []
   },
   "outputs": [
    {
     "data": {
      "application/javascript": [
       "if (!(\"Notification\" in window)) {\n",
       "    alert(\"This browser does not support desktop notifications, so the %%notify magic will not work.\");\n",
       "} else if (Notification.permission !== 'granted' && Notification.permission !== 'denied') {\n",
       "    Notification.requestPermission(function (permission) {\n",
       "        if(!('permission' in Notification)) {\n",
       "            Notification.permission = permission;\n",
       "        }\n",
       "    })\n",
       "}\n"
      ],
      "text/plain": [
       "<IPython.core.display.Javascript object>"
      ]
     },
     "metadata": {},
     "output_type": "display_data"
    }
   ],
   "source": [
    "import json\n",
    "\n",
    "import sklearn\n",
    "import torch\n",
    "import pandas as pd\n",
    "from tqdm import tqdm\n",
    "\n",
    "from sentence_transformers import SentenceTransformer, InputExample, util, losses\n",
    "from sentence_transformers import evaluation\n",
    "from torch.utils.data import DataLoader"
   ]
  },
  {
   "cell_type": "markdown",
   "source": [
    "### Загрузка данных для дообучения трансформера"
   ],
   "metadata": {
    "collapsed": false
   }
  },
  {
   "cell_type": "code",
   "execution_count": 3,
   "id": "c2dbcd87",
   "metadata": {
    "tags": []
   },
   "outputs": [],
   "source": [
    "TRAIN_DATASET_PATH = r\"/home/train.json\"\n",
    "TEST_DATASET_PATH = r\"/home/test.json\"\n",
    "\n",
    "with open(TRAIN_DATASET_PATH, \"r\") as dataset_file:\n",
    "    train_dataset = json.load(dataset_file)\n",
    "\n",
    "with open(TEST_DATASET_PATH, \"r\") as dataset_file:\n",
    "    test_dataset = json.load(dataset_file)"
   ]
  },
  {
   "cell_type": "markdown",
   "source": [
    "### Инициализация предобученной модели трансформера"
   ],
   "metadata": {
    "collapsed": false
   }
  },
  {
   "cell_type": "code",
   "execution_count": 4,
   "id": "fe67f380",
   "metadata": {
    "tags": []
   },
   "outputs": [],
   "source": [
    "MODEL = \"sentence-transformers/all-mpnet-base-v2\"\n",
    "model = SentenceTransformer(MODEL)"
   ]
  },
  {
   "cell_type": "markdown",
   "source": [
    "### Подготовка датасета для дообучения и эвалюатора для теста"
   ],
   "metadata": {
    "collapsed": false
   }
  },
  {
   "cell_type": "code",
   "execution_count": 6,
   "id": "5ade8b3b",
   "metadata": {
    "tags": []
   },
   "outputs": [
    {
     "name": "stderr",
     "output_type": "stream",
     "text": [
      "100%|██████████| 440535/440535 [00:01<00:00, 252567.34it/s]"
     ]
    },
    {
     "name": "stdout",
     "output_type": "stream",
     "text": [
      "BATCH_SIZE = 32\n",
      "EPOCHS_NUM = 50\n",
      "DATASET_LEN = 440535\n",
      "STEPS_PER_ERPOCH = 1000\n"
     ]
    },
    {
     "name": "stderr",
     "output_type": "stream",
     "text": [
      "\n"
     ]
    }
   ],
   "source": [
    "BATCH_SIZE = 32\n",
    "DATASET_LEN = len(train_dataset)\n",
    "\n",
    "train_examples = []\n",
    "for i in tqdm(range(len(train_dataset))):\n",
    "    train_examples.append(InputExample(texts=[train_dataset[i][\"text\"], train_dataset[i][\"comment\"]], label=train_dataset[i][\"score\"]))\n",
    "\n",
    "evaluator = evaluation.EmbeddingSimilarityEvaluator.from_input_examples(test_dataset, batch_size=BATCH_SIZE)\n",
    "\n",
    "train_dataloader = DataLoader(train_dataset, shuffle=True, batch_size=BATCH_SIZE)\n",
    "train_loss = losses.CosineSimilarityLoss(model)"
   ]
  },
  {
   "cell_type": "markdown",
   "source": [
    "### Запуск дообучения на 50 эпохах по 1000 шагов"
   ],
   "metadata": {
    "collapsed": false
   }
  },
  {
   "cell_type": "code",
   "execution_count": null,
   "id": "a44dbe61-3825-4920-b9cb-00452d3b1030",
   "metadata": {
    "tags": []
   },
   "outputs": [
    {
     "data": {
      "application/vnd.jupyter.widget-view+json": {
       "model_id": "afa194fb78fe412db913867bd57c4f65",
       "version_major": 2,
       "version_minor": 0
      },
      "text/plain": [
       "Epoch:   0%|          | 0/50 [00:00<?, ?it/s]"
      ]
     },
     "metadata": {},
     "output_type": "display_data"
    },
    {
     "data": {
      "application/vnd.jupyter.widget-view+json": {
       "model_id": "26785e2a5df6470f8f50a5735623a164",
       "version_major": 2,
       "version_minor": 0
      },
      "text/plain": [
       "Iteration:   0%|          | 0/1000 [00:00<?, ?it/s]"
      ]
     },
     "metadata": {},
     "output_type": "display_data"
    }
   ],
   "source": [
    "EPOCHS_NUM = 50\n",
    "STEPS_PER_EPOCH = 1000\n",
    "WARMUP_STEPS = int(len(train_dataloader) * EPOCHS_NUM * 0.1)\n",
    "\n",
    "model.fit(\n",
    "    train_objectives=[(train_dataloader, train_loss)], \n",
    "    epochs=EPOCHS_NUM, \n",
    "    warmup_steps=WARMUP_STEPS,\n",
    "    steps_per_epoch=STEPS_PER_EPOCH,\n",
    "    evaluator=evaluator,\n",
    "    evaluation_steps=2500,\n",
    "    \n",
    "    output_path=\"./output\",\n",
    "    checkpoint_path=\"./checkpoint\",\n",
    "    checkpoint_save_total_limit=25,\n",
    "\n",
    "    use_amp=True\n",
    ")"
   ]
  },
  {
   "cell_type": "markdown",
   "source": [
    "### Загрузка дообученной модели"
   ],
   "metadata": {
    "collapsed": false
   }
  },
  {
   "cell_type": "code",
   "execution_count": null,
   "outputs": [],
   "source": [
    "MODEL = \"./output\"\n",
    "model = SentenceTransformer(MODEL)"
   ],
   "metadata": {
    "collapsed": false
   }
  },
  {
   "cell_type": "markdown",
   "source": [
    "### Проверка дообученной модели на текстовых данных"
   ],
   "metadata": {
    "collapsed": false
   }
  },
  {
   "cell_type": "code",
   "execution_count": 11,
   "id": "94ef296e-67b9-49ab-af4e-b054db7ef9c1",
   "metadata": {
    "tags": []
   },
   "outputs": [
    {
     "name": "stderr",
     "output_type": "stream",
     "text": [
      "100%|██████████| 5000/5000 [02:03<00:00, 40.60it/s]\n"
     ]
    },
    {
     "data": {
      "text/html": [
       "<div>\n",
       "<style scoped>\n",
       "    .dataframe tbody tr th:only-of-type {\n",
       "        vertical-align: middle;\n",
       "    }\n",
       "\n",
       "    .dataframe tbody tr th {\n",
       "        vertical-align: top;\n",
       "    }\n",
       "\n",
       "    .dataframe thead th {\n",
       "        text-align: right;\n",
       "    }\n",
       "</style>\n",
       "<table border=\"1\" class=\"dataframe\">\n",
       "  <thead>\n",
       "    <tr style=\"text-align: right;\">\n",
       "      <th></th>\n",
       "      <th>text</th>\n",
       "      <th>comment</th>\n",
       "      <th>orig_score</th>\n",
       "      <th>score</th>\n",
       "    </tr>\n",
       "  </thead>\n",
       "  <tbody>\n",
       "    <tr>\n",
       "      <th>0</th>\n",
       "      <td>A portable high-resolution timestamp in C++</td>\n",
       "      <td>If you want to see what a rabbit hole looks li...</td>\n",
       "      <td>1.0</td>\n",
       "      <td>0.788209</td>\n",
       "    </tr>\n",
       "    <tr>\n",
       "      <th>1</th>\n",
       "      <td>Underwater Kites Can Harness Ocean Currents to...</td>\n",
       "      <td>More, uhm, sophisticated designs are already i...</td>\n",
       "      <td>0.4</td>\n",
       "      <td>0.486585</td>\n",
       "    </tr>\n",
       "    <tr>\n",
       "      <th>2</th>\n",
       "      <td>Software Effort Estimation Considered Harmful</td>\n",
       "      <td>He's sometimes right.  There are lots of good ...</td>\n",
       "      <td>0.8</td>\n",
       "      <td>0.632986</td>\n",
       "    </tr>\n",
       "    <tr>\n",
       "      <th>3</th>\n",
       "      <td>Obama Must Stop Neglecting India</td>\n",
       "      <td>aargh! Politics! why is this on HN? And that t...</td>\n",
       "      <td>0.6</td>\n",
       "      <td>0.660816</td>\n",
       "    </tr>\n",
       "    <tr>\n",
       "      <th>4</th>\n",
       "      <td>Ask YC: How do you defend the downmodded?</td>\n",
       "      <td>I do a little of both; I'll spend a little if ...</td>\n",
       "      <td>0.6</td>\n",
       "      <td>0.521535</td>\n",
       "    </tr>\n",
       "    <tr>\n",
       "      <th>...</th>\n",
       "      <td>...</td>\n",
       "      <td>...</td>\n",
       "      <td>...</td>\n",
       "      <td>...</td>\n",
       "    </tr>\n",
       "    <tr>\n",
       "      <th>4995</th>\n",
       "      <td>BashBooster – simple provisioning, bash only, ...</td>\n",
       "      <td>This reminds me of fucking_shell_scripts[1] bu...</td>\n",
       "      <td>0.6</td>\n",
       "      <td>0.793892</td>\n",
       "    </tr>\n",
       "    <tr>\n",
       "      <th>4996</th>\n",
       "      <td>A Story on Drive</td>\n",
       "      <td>what a short but inspiring paragraph.  I just ...</td>\n",
       "      <td>0.4</td>\n",
       "      <td>0.630290</td>\n",
       "    </tr>\n",
       "    <tr>\n",
       "      <th>4997</th>\n",
       "      <td>India blocks 73 URLs criticizing IIPM, an MBA ...</td>\n",
       "      <td>I think a lot of people are confused with the ...</td>\n",
       "      <td>0.4</td>\n",
       "      <td>0.554567</td>\n",
       "    </tr>\n",
       "    <tr>\n",
       "      <th>4998</th>\n",
       "      <td>Ask HN: is \"The Social Network\" motivating ent...</td>\n",
       "      <td>I think it will inspire a bunch of people to t...</td>\n",
       "      <td>0.8</td>\n",
       "      <td>0.564551</td>\n",
       "    </tr>\n",
       "    <tr>\n",
       "      <th>4999</th>\n",
       "      <td>The MIN Challenge</td>\n",
       "      <td>Meanwhile, in C++14:    auto min = [] (auto a,...</td>\n",
       "      <td>0.2</td>\n",
       "      <td>0.526084</td>\n",
       "    </tr>\n",
       "  </tbody>\n",
       "</table>\n",
       "<p>5000 rows × 4 columns</p>\n",
       "</div>"
      ],
      "text/plain": [
       "                                                   text  \\\n",
       "0           A portable high-resolution timestamp in C++   \n",
       "1     Underwater Kites Can Harness Ocean Currents to...   \n",
       "2         Software Effort Estimation Considered Harmful   \n",
       "3                      Obama Must Stop Neglecting India   \n",
       "4             Ask YC: How do you defend the downmodded?   \n",
       "...                                                 ...   \n",
       "4995  BashBooster – simple provisioning, bash only, ...   \n",
       "4996                                   A Story on Drive   \n",
       "4997  India blocks 73 URLs criticizing IIPM, an MBA ...   \n",
       "4998  Ask HN: is \"The Social Network\" motivating ent...   \n",
       "4999                                  The MIN Challenge   \n",
       "\n",
       "                                                comment  orig_score     score  \n",
       "0     If you want to see what a rabbit hole looks li...         1.0  0.788209  \n",
       "1     More, uhm, sophisticated designs are already i...         0.4  0.486585  \n",
       "2     He's sometimes right.  There are lots of good ...         0.8  0.632986  \n",
       "3     aargh! Politics! why is this on HN? And that t...         0.6  0.660816  \n",
       "4     I do a little of both; I'll spend a little if ...         0.6  0.521535  \n",
       "...                                                 ...         ...       ...  \n",
       "4995  This reminds me of fucking_shell_scripts[1] bu...         0.6  0.793892  \n",
       "4996  what a short but inspiring paragraph.  I just ...         0.4  0.630290  \n",
       "4997  I think a lot of people are confused with the ...         0.4  0.554567  \n",
       "4998  I think it will inspire a bunch of people to t...         0.8  0.564551  \n",
       "4999  Meanwhile, in C++14:    auto min = [] (auto a,...         0.2  0.526084  \n",
       "\n",
       "[5000 rows x 4 columns]"
      ]
     },
     "execution_count": 11,
     "metadata": {},
     "output_type": "execute_result"
    }
   ],
   "source": [
    "test = []\n",
    "for item in tqdm(test_dataset[:5000]):\n",
    "    text = item.texts[0]\n",
    "    comment = item.texts[1]\n",
    "    orig_score = item.label\n",
    "    \n",
    "    text_emb = model.encode(text)\n",
    "    comment_emb = model.encode(comment)\n",
    "    score = util.dot_score(text_emb, comment_emb)[0].cpu().tolist()[0]\n",
    "    \n",
    "    test.append({\n",
    "        \"text\": text,\n",
    "        \"comment\": comment,\n",
    "        \"orig_score\": orig_score,\n",
    "        \"calculated_score\": score\n",
    "    })\n",
    "    \n",
    "test_df = pd.DataFrame(test)\n",
    "test_df"
   ]
  }
 ],
 "metadata": {
  "kernelspec": {
   "display_name": "Python 3 (ipykernel)",
   "language": "python",
   "name": "python3"
  },
  "language_info": {
   "codemirror_mode": {
    "name": "ipython",
    "version": 3
   },
   "file_extension": ".py",
   "mimetype": "text/x-python",
   "name": "python",
   "nbconvert_exporter": "python",
   "pygments_lexer": "ipython3",
   "version": "3.10.8"
  }
 },
 "nbformat": 4,
 "nbformat_minor": 5
}
